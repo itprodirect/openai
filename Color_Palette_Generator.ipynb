{
 "cells": [
  {
   "cell_type": "code",
   "execution_count": 69,
   "id": "171cdad8",
   "metadata": {},
   "outputs": [],
   "source": [
    "import openai\n",
    "from IPython.display import Markdown, display\n",
    "import json"
   ]
  },
  {
   "cell_type": "code",
   "execution_count": 70,
   "id": "37fcf979",
   "metadata": {},
   "outputs": [],
   "source": [
    "from dotenv import dotenv_values"
   ]
  },
  {
   "cell_type": "code",
   "execution_count": 71,
   "id": "b98d2084",
   "metadata": {},
   "outputs": [],
   "source": [
    "config = dotenv_values(\".env\")"
   ]
  },
  {
   "cell_type": "code",
   "execution_count": 72,
   "id": "edd69666",
   "metadata": {},
   "outputs": [],
   "source": [
    "openai.api_key = config['OPENAI_API_KEY']"
   ]
  },
  {
   "cell_type": "code",
   "execution_count": 73,
   "id": "f5f94a92",
   "metadata": {
    "scrolled": true
   },
   "outputs": [
    {
     "data": {
      "text/markdown": [
       "<h1>Hello world! </h1>"
      ],
      "text/plain": [
       "<IPython.core.display.Markdown object>"
      ]
     },
     "metadata": {},
     "output_type": "display_data"
    },
    {
     "data": {
      "text/markdown": [
       "<button style=\"color: red\">Click Me</button>"
      ],
      "text/plain": [
       "<IPython.core.display.Markdown object>"
      ]
     },
     "metadata": {},
     "output_type": "display_data"
    }
   ],
   "source": [
    "# Example of markdown being displayed in the browser\n",
    "display(Markdown('<h1>Hello world! </h1>'))\n",
    "\n",
    "display(Markdown('<button style=\"color: red\">Click Me</button>'))"
   ]
  },
  {
   "cell_type": "markdown",
   "id": "55c8f0a6",
   "metadata": {},
   "source": [
    "## Color-Swatch Rendering Function"
   ]
  },
  {
   "cell_type": "code",
   "execution_count": 74,
   "id": "ef03d894",
   "metadata": {},
   "outputs": [
    {
     "data": {
      "text/markdown": [
       "<span style='color: #FBD8A6'>████████</span> <span style='color: #F7AFA5'>████████</span> <span style='color: #ED5A89'>████████</span> <span style='color: #5D2A84'>████████</span> <span style='color: #190A3B'>████████</span>"
      ],
      "text/plain": [
       "<IPython.core.display.Markdown object>"
      ]
     },
     "metadata": {},
     "output_type": "display_data"
    }
   ],
   "source": [
    "def display_colors(colors):\n",
    "    display(Markdown(\" \".join(\n",
    "        f\"<span style='color: {color}'>{chr(9608) * 8}</span>\"\n",
    "        for color in colors\n",
    "    )))\n",
    "    \n",
    "    \n",
    "display_colors([\"#FBD8A6\", \"#F7AFA5\", \"#ED5A89\", \"#5D2A84\", \"#190A3B\"]) "
   ]
  },
  {
   "cell_type": "markdown",
   "id": "37bad111",
   "metadata": {},
   "source": [
    "## Start of basic prompt code"
   ]
  },
  {
   "cell_type": "code",
   "execution_count": 75,
   "id": "8e775afe",
   "metadata": {},
   "outputs": [],
   "source": [
    "def get_and_render_colors(msg):\n",
    "    prompt = f\"\"\"\n",
    "    You are a color palette generating assistant that responds to text prompts for color palettes.\n",
    "    You should generate color palettes that fit the theme, mood or instructions in the prompt.\n",
    "    The palettes should be between 2 and 8 colors\n",
    "\n",
    "    Q: Convert the following verbal description of a color palette into a list of colors: The Mediterranean Sea\n",
    "    A: [\"#006699\", \"#66CCCC\", \"#F0E68C\", \"#008000\", \"#F08080\"]\n",
    "\n",
    "    Q: Convert the following verbal description of a color palette into a list of colors: sage, nature, earth\n",
    "    A: [\"#EDF1D6\", \"#9DC08B\", \"#609966\", \"#40513B\"]\n",
    "\n",
    "    Q: Convert the following verbal description of a color palette into a list of colors: Alabama Crimson Tide\n",
    "    A: [\"#9E1B32\", \"#828A8F\", \"#FFFFFF\"]\n",
    "\n",
    "    Q: Convert the following verbal description of a color palette into a list of colors: Florida Gators\n",
    "    A: [\"#0021A5\", \"#FA4616\"]\n",
    "\n",
    "    Q: Convert the following verbal description of a color palette into a list of colors: Kentucky Wildcats\n",
    "    A: [\"#0033A0\", \"#FFFFFF\", \"#000000\"]\n",
    "\n",
    "    Q: Convert the following verbal description of a color palette into a list of colors: Los Angeles Lakers\n",
    "    A: [\"#552583\", \"#FDB927\", \"#000000\"]\n",
    "\n",
    "    Desired Format: a JSON array of hexidecimal color codes\n",
    "\n",
    "    Q: Convert the following verbal description of a color palette into a list of colors: {msg}\n",
    "    A:\n",
    "\n",
    "    Result:\n",
    "    \"\"\"\n",
    "\n",
    "    response = openai.Completion.create(\n",
    "        prompt=prompt,\n",
    "        model=\"text-davinci-003\",\n",
    "        max_tokens=200,\n",
    "    )\n",
    "\n",
    "    colors = json.loads(response[\"choices\"][0][\"text\"])\n",
    "    display_colors(colors)"
   ]
  },
  {
   "cell_type": "code",
   "execution_count": 76,
   "id": "5f2af4d3",
   "metadata": {},
   "outputs": [
    {
     "data": {
      "text/markdown": [
       "<span style='color: #4285F4'>████████</span> <span style='color: #EA4335'>████████</span> <span style='color: #FBBC05'>████████</span> <span style='color: #34A853'>████████</span>"
      ],
      "text/plain": [
       "<IPython.core.display.Markdown object>"
      ]
     },
     "metadata": {},
     "output_type": "display_data"
    }
   ],
   "source": [
    "get_and_render_colors(\"4 Google brand colors\")"
   ]
  },
  {
   "cell_type": "code",
   "execution_count": 77,
   "id": "fdcb16f9",
   "metadata": {},
   "outputs": [
    {
     "data": {
      "text/markdown": [
       "<span style='color: #FD5E53'>████████</span> <span style='color: #CFDBC5'>████████</span> <span style='color: #87421F'>████████</span> <span style='color: #BA9077'>████████</span> <span style='color: #FFFAD5'>████████</span>"
      ],
      "text/plain": [
       "<IPython.core.display.Markdown object>"
      ]
     },
     "metadata": {},
     "output_type": "display_data"
    }
   ],
   "source": [
    "get_and_render_colors(\"Thanksgiving color palette\")"
   ]
  },
  {
   "cell_type": "code",
   "execution_count": 78,
   "id": "82472fe3",
   "metadata": {},
   "outputs": [
    {
     "data": {
      "text/markdown": [
       "<span style='color: #00B1B3'>████████</span> <span style='color: #FF4981'>████████</span> <span style='color: #FDCA40'>████████</span> <span style='color: #00C168'>████████</span>"
      ],
      "text/plain": [
       "<IPython.core.display.Markdown object>"
      ]
     },
     "metadata": {},
     "output_type": "display_data"
    }
   ],
   "source": [
    "get_and_render_colors(\"new tech hot startup\")"
   ]
  },
  {
   "cell_type": "code",
   "execution_count": 79,
   "id": "0f2493ef",
   "metadata": {},
   "outputs": [
    {
     "data": {
      "text/markdown": [
       "<span style='color: #2D2D2D'>████████</span> <span style='color: #717171'>████████</span> <span style='color: #FFFFFF'>████████</span> <span style='color: #990000'>████████</span> <span style='color: #D3D3D3'>████████</span> <span style='color: #808080'>████████</span>"
      ],
      "text/plain": [
       "<IPython.core.display.Markdown object>"
      ]
     },
     "metadata": {},
     "output_type": "display_data"
    }
   ],
   "source": [
    "get_and_render_colors(\"Football on a cold winter night\")"
   ]
  },
  {
   "cell_type": "code",
   "execution_count": 80,
   "id": "a21c95eb",
   "metadata": {},
   "outputs": [
    {
     "data": {
      "text/markdown": [
       "<span style='color: #F67EAD'>████████</span> <span style='color: #F9BF9D'>████████</span> <span style='color: #EAEAEA'>████████</span> <span style='color: #CCF1C1'>████████</span> <span style='color: #EEDED6'>████████</span>"
      ],
      "text/plain": [
       "<IPython.core.display.Markdown object>"
      ]
     },
     "metadata": {},
     "output_type": "display_data"
    }
   ],
   "source": [
    "get_and_render_colors(\"baby girl first birthday\")"
   ]
  },
  {
   "cell_type": "code",
   "execution_count": 81,
   "id": "32b5d903",
   "metadata": {},
   "outputs": [
    {
     "data": {
      "text/markdown": [
       "<span style='color: #b9d7fc'>████████</span> <span style='color: #80a7ff'>████████</span> <span style='color: #3e83f7'>████████</span> <span style='color: #003bbb'>████████</span> <span style='color: #f3e3d3'>████████</span> <span style='color: #e0b495'>████████</span> <span style='color: #bb8063'>████████</span> <span style='color: #a55231'>████████</span>"
      ],
      "text/plain": [
       "<IPython.core.display.Markdown object>"
      ]
     },
     "metadata": {},
     "output_type": "display_data"
    }
   ],
   "source": [
    "get_and_render_colors(\"baby boy first birthday\")"
   ]
  },
  {
   "cell_type": "code",
   "execution_count": 82,
   "id": "7f9b61eb",
   "metadata": {},
   "outputs": [
    {
     "data": {
      "text/markdown": [
       "<span style='color: #006BB6'>████████</span> <span style='color: #0077C0'>████████</span> <span style='color: #C4CED4'>████████</span> <span style='color: #E6B036'>████████</span> <span style='color: #FFFFFF'>████████</span>"
      ],
      "text/plain": [
       "<IPython.core.display.Markdown object>"
      ]
     },
     "metadata": {},
     "output_type": "display_data"
    }
   ],
   "source": [
    "get_and_render_colors(\"Orlando magic championship vibes\")"
   ]
  },
  {
   "cell_type": "code",
   "execution_count": 84,
   "id": "758c74f7",
   "metadata": {},
   "outputs": [
    {
     "data": {
      "text/markdown": [
       "<span style='color: #003087'>████████</span> <span style='color: #E2008C'>████████</span> <span style='color: #FFFFFF'>████████</span>"
      ],
      "text/plain": [
       "<IPython.core.display.Markdown object>"
      ]
     },
     "metadata": {},
     "output_type": "display_data"
    }
   ],
   "source": [
    "get_and_render_colors(\"new york yankees\")"
   ]
  },
  {
   "cell_type": "code",
   "execution_count": 85,
   "id": "8290c9e3",
   "metadata": {},
   "outputs": [
    {
     "data": {
      "text/markdown": [
       "<span style='color: #007A33'>████████</span> <span style='color: #AE8445'>████████</span> <span style='color: #981B48'>████████</span> <span style='color: #FFFFFF'>████████</span>"
      ],
      "text/plain": [
       "<IPython.core.display.Markdown object>"
      ]
     },
     "metadata": {},
     "output_type": "display_data"
    }
   ],
   "source": [
    "get_and_render_colors(\"boston celtics\")"
   ]
  },
  {
   "cell_type": "code",
   "execution_count": 86,
   "id": "fbbae5db",
   "metadata": {},
   "outputs": [
    {
     "data": {
      "text/markdown": [
       "<span style='color: #0021A5'>████████</span> <span style='color: #FA4616'>████████</span>"
      ],
      "text/plain": [
       "<IPython.core.display.Markdown object>"
      ]
     },
     "metadata": {},
     "output_type": "display_data"
    }
   ],
   "source": [
    "get_and_render_colors(\"florida gators\")"
   ]
  },
  {
   "cell_type": "code",
   "execution_count": 87,
   "id": "214e675b",
   "metadata": {},
   "outputs": [
    {
     "data": {
      "text/markdown": [
       "<span style='color: #D50A0A'>████████</span> <span style='color: #C80815'>████████</span> <span style='color: #000000'>████████</span> <span style='color: #FF7900'>████████</span>"
      ],
      "text/plain": [
       "<IPython.core.display.Markdown object>"
      ]
     },
     "metadata": {},
     "output_type": "display_data"
    }
   ],
   "source": [
    "get_and_render_colors(\"tampa bay bucs\")"
   ]
  },
  {
   "cell_type": "code",
   "execution_count": 88,
   "id": "09df5c21",
   "metadata": {},
   "outputs": [
    {
     "data": {
      "text/markdown": [
       "<span style='color: #00205B'>████████</span> <span style='color: #0068B3'>████████</span> <span style='color: #BCD2EE'>████████</span> <span style='color: #FFFFFF'>████████</span>"
      ],
      "text/plain": [
       "<IPython.core.display.Markdown object>"
      ]
     },
     "metadata": {},
     "output_type": "display_data"
    }
   ],
   "source": [
    "get_and_render_colors(\"tampa bay lightning\")"
   ]
  },
  {
   "cell_type": "code",
   "execution_count": null,
   "id": "6e25b9bf",
   "metadata": {},
   "outputs": [],
   "source": []
  }
 ],
 "metadata": {
  "kernelspec": {
   "display_name": "Python 3 (ipykernel)",
   "language": "python",
   "name": "python3"
  },
  "language_info": {
   "codemirror_mode": {
    "name": "ipython",
    "version": 3
   },
   "file_extension": ".py",
   "mimetype": "text/x-python",
   "name": "python",
   "nbconvert_exporter": "python",
   "pygments_lexer": "ipython3",
   "version": "3.9.13"
  }
 },
 "nbformat": 4,
 "nbformat_minor": 5
}
